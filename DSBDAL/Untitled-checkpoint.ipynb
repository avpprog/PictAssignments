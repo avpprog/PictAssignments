{
 "cells": [
  {
   "cell_type": "code",
   "execution_count": 1,
   "id": "eead028f-9b8a-445f-abeb-5f6e5b31b1dd",
   "metadata": {},
   "outputs": [],
   "source": [
    "import pandas as pd\n",
    "import numpy as np\n",
    "import seaborn as sns\n",
    "import matplotlib.pyplot as plt"
   ]
  },
  {
   "cell_type": "code",
   "execution_count": null,
   "id": "d6b3c7ee-3cfa-42bf-924b-7400f1672ae5",
   "metadata": {},
   "outputs": [],
   "source": [
    "df = pd.read_csv(\"Amazon Books Data.csv\")\n",
    "df.head()"
   ]
  },
  {
   "cell_type": "code",
   "execution_count": 11,
   "id": "9f3d8c39-663f-44dd-8368-67c00eefbc32",
   "metadata": {
    "scrolled": true
   },
   "outputs": [
    {
     "name": "stdout",
     "output_type": "stream",
     "text": [
      "Columns after removal of unnecessary ones:\n",
      "Index(['title', 'description', 'author', 'isbn10', 'isbn13', 'publish_date',\n",
      "       'edition', 'best_seller', 'top_rated ', 'rating', 'review_count',\n",
      "       'price'],\n",
      "      dtype='object')\n"
     ]
    },
    {
     "data": {
      "text/html": [
       "<div>\n",
       "<style scoped>\n",
       "    .dataframe tbody tr th:only-of-type {\n",
       "        vertical-align: middle;\n",
       "    }\n",
       "\n",
       "    .dataframe tbody tr th {\n",
       "        vertical-align: top;\n",
       "    }\n",
       "\n",
       "    .dataframe thead th {\n",
       "        text-align: right;\n",
       "    }\n",
       "</style>\n",
       "<table border=\"1\" class=\"dataframe\">\n",
       "  <thead>\n",
       "    <tr style=\"text-align: right;\">\n",
       "      <th></th>\n",
       "      <th>title</th>\n",
       "      <th>description</th>\n",
       "      <th>author</th>\n",
       "      <th>isbn10</th>\n",
       "      <th>isbn13</th>\n",
       "      <th>publish_date</th>\n",
       "      <th>edition</th>\n",
       "      <th>best_seller</th>\n",
       "      <th>top_rated</th>\n",
       "      <th>rating</th>\n",
       "      <th>review_count</th>\n",
       "      <th>price</th>\n",
       "    </tr>\n",
       "  </thead>\n",
       "  <tbody>\n",
       "    <tr>\n",
       "      <th>0</th>\n",
       "      <td>The Staff Engineer's Path</td>\n",
       "      <td>A Guide for Individual Contributors Navigating...</td>\n",
       "      <td>Tanya Reilly</td>\n",
       "      <td>1098118731</td>\n",
       "      <td>978-1098118730</td>\n",
       "      <td>2022-10-25</td>\n",
       "      <td>1</td>\n",
       "      <td>Yes</td>\n",
       "      <td>No</td>\n",
       "      <td>4.7</td>\n",
       "      <td>189</td>\n",
       "      <td>$31.99</td>\n",
       "    </tr>\n",
       "    <tr>\n",
       "      <th>1</th>\n",
       "      <td>Cracking the Coding Interview</td>\n",
       "      <td>189 Programming Questions and Solutions</td>\n",
       "      <td>Gayle Laakmann McDowell</td>\n",
       "      <td>984782869</td>\n",
       "      <td>978-0984782857</td>\n",
       "      <td>2015-07-01</td>\n",
       "      <td>6</td>\n",
       "      <td>Yes</td>\n",
       "      <td>No</td>\n",
       "      <td>4.7</td>\n",
       "      <td>8334</td>\n",
       "      <td>$33.21</td>\n",
       "    </tr>\n",
       "    <tr>\n",
       "      <th>2</th>\n",
       "      <td>Python Crash Course, 3rd Edition</td>\n",
       "      <td>A Hands-On, Project-Based Introduction to Prog...</td>\n",
       "      <td>Eric Matthes</td>\n",
       "      <td>1718502702</td>\n",
       "      <td>978-1718502703</td>\n",
       "      <td>2023-01-10</td>\n",
       "      <td>3</td>\n",
       "      <td>Yes</td>\n",
       "      <td>No</td>\n",
       "      <td>4.8</td>\n",
       "      <td>165</td>\n",
       "      <td>$30.61</td>\n",
       "    </tr>\n",
       "    <tr>\n",
       "      <th>3</th>\n",
       "      <td>The Pragmatic Programmer</td>\n",
       "      <td>20th Anniversary Edition, 2nd Edition: Your Jo...</td>\n",
       "      <td>David Thomas</td>\n",
       "      <td>NaN</td>\n",
       "      <td>978-0135957059</td>\n",
       "      <td>2019-09-13</td>\n",
       "      <td>2</td>\n",
       "      <td>Yes</td>\n",
       "      <td>No</td>\n",
       "      <td>4.8</td>\n",
       "      <td>2521</td>\n",
       "      <td>$38.00</td>\n",
       "    </tr>\n",
       "    <tr>\n",
       "      <th>4</th>\n",
       "      <td>Clean Code</td>\n",
       "      <td>A Handbook of Agile Software Craftsmanship</td>\n",
       "      <td>Robert C. Martin</td>\n",
       "      <td>NaN</td>\n",
       "      <td>978-0132350884</td>\n",
       "      <td>2008-08-01</td>\n",
       "      <td>1</td>\n",
       "      <td>Yes</td>\n",
       "      <td>No</td>\n",
       "      <td>4.7</td>\n",
       "      <td>5639</td>\n",
       "      <td>$40.00</td>\n",
       "    </tr>\n",
       "  </tbody>\n",
       "</table>\n",
       "</div>"
      ],
      "text/plain": [
       "                              title  \\\n",
       "0         The Staff Engineer's Path   \n",
       "1     Cracking the Coding Interview   \n",
       "2  Python Crash Course, 3rd Edition   \n",
       "3          The Pragmatic Programmer   \n",
       "4                        Clean Code   \n",
       "\n",
       "                                         description                   author  \\\n",
       "0  A Guide for Individual Contributors Navigating...             Tanya Reilly   \n",
       "1            189 Programming Questions and Solutions  Gayle Laakmann McDowell   \n",
       "2  A Hands-On, Project-Based Introduction to Prog...             Eric Matthes   \n",
       "3  20th Anniversary Edition, 2nd Edition: Your Jo...             David Thomas   \n",
       "4         A Handbook of Agile Software Craftsmanship         Robert C. Martin   \n",
       "\n",
       "       isbn10          isbn13 publish_date edition best_seller top_rated   \\\n",
       "0  1098118731  978-1098118730   2022-10-25       1         Yes         No   \n",
       "1   984782869  978-0984782857   2015-07-01       6         Yes         No   \n",
       "2  1718502702  978-1718502703   2023-01-10       3         Yes         No   \n",
       "3         NaN  978-0135957059   2019-09-13       2         Yes         No   \n",
       "4         NaN  978-0132350884   2008-08-01       1         Yes         No   \n",
       "\n",
       "  rating review_count   price  \n",
       "0    4.7          189  $31.99  \n",
       "1    4.7         8334  $33.21  \n",
       "2    4.8          165  $30.61  \n",
       "3    4.8         2521  $38.00  \n",
       "4    4.7         5639  $40.00  "
      ]
     },
     "execution_count": 11,
     "metadata": {},
     "output_type": "execute_result"
    }
   ],
   "source": [
    "df = df.loc[:, df.columns[~df.columns.str.contains('^Unnamed')]]\n",
    "print(\"Columns after removal of unnecessary ones:\")\n",
    "print(df.columns)\n",
    "df.head()"
   ]
  },
  {
   "cell_type": "code",
   "execution_count": 9,
   "id": "2cf51fe0-9489-4f95-980d-5c061882b0a5",
   "metadata": {},
   "outputs": [
    {
     "data": {
      "text/plain": [
       "(541, 12)"
      ]
     },
     "execution_count": 9,
     "metadata": {},
     "output_type": "execute_result"
    }
   ],
   "source": [
    "df.shape"
   ]
  },
  {
   "cell_type": "code",
   "execution_count": 12,
   "id": "42be9633-da93-4718-b9f0-d351d83af2b5",
   "metadata": {},
   "outputs": [
    {
     "name": "stdout",
     "output_type": "stream",
     "text": [
      "Missing values:\n",
      " title            75\n",
      "description     154\n",
      "author           76\n",
      "isbn10          175\n",
      "isbn13           76\n",
      "publish_date     78\n",
      "edition          77\n",
      "best_seller      74\n",
      "top_rated        74\n",
      "rating           78\n",
      "review_count     78\n",
      "price            77\n",
      "dtype: int64\n"
     ]
    }
   ],
   "source": [
    "missing_values = df.isnull().sum()\n",
    "print(\"Missing values:\\n\", missing_values)"
   ]
  },
  {
   "cell_type": "code",
   "execution_count": 13,
   "id": "9a421aec-25a6-4c64-b0dc-fc6491679379",
   "metadata": {},
   "outputs": [
    {
     "name": "stdout",
     "output_type": "stream",
     "text": [
      "\n",
      "Column Information:\n",
      "\n",
      "<class 'pandas.core.frame.DataFrame'>\n",
      "RangeIndex: 541 entries, 0 to 540\n",
      "Data columns (total 12 columns):\n",
      " #   Column        Non-Null Count  Dtype \n",
      "---  ------        --------------  ----- \n",
      " 0   title         466 non-null    object\n",
      " 1   description   387 non-null    object\n",
      " 2   author        465 non-null    object\n",
      " 3   isbn10        366 non-null    object\n",
      " 4   isbn13        465 non-null    object\n",
      " 5   publish_date  463 non-null    object\n",
      " 6   edition       464 non-null    object\n",
      " 7   best_seller   467 non-null    object\n",
      " 8   top_rated     467 non-null    object\n",
      " 9   rating        463 non-null    object\n",
      " 10  review_count  463 non-null    object\n",
      " 11  price         464 non-null    object\n",
      "dtypes: object(12)\n",
      "memory usage: 50.8+ KB\n",
      "None\n"
     ]
    }
   ],
   "source": [
    "print(\"\\nColumn Information:\\n\")\n",
    "print(df.info())"
   ]
  },
  {
   "cell_type": "code",
   "execution_count": 14,
   "id": "a616a3a0-01d5-46f9-b913-cd4a42fa951c",
   "metadata": {},
   "outputs": [
    {
     "name": "stdout",
     "output_type": "stream",
     "text": [
      "title           object\n",
      "description     object\n",
      "author          object\n",
      "isbn10          object\n",
      "isbn13          object\n",
      "publish_date    object\n",
      "edition         object\n",
      "best_seller     object\n",
      "top_rated       object\n",
      "rating          object\n",
      "review_count    object\n",
      "price           object\n",
      "dtype: object\n"
     ]
    }
   ],
   "source": [
    "print(df.dtypes)"
   ]
  },
  {
   "cell_type": "code",
   "execution_count": null,
   "id": "6ccd7c80-6728-4bc4-bb84-2bb8fa049293",
   "metadata": {},
   "outputs": [],
   "source": [
    "df[\"rating_count\"] = df[\"rating_count\"].ffill()"
   ]
  }
 ],
 "metadata": {
  "kernelspec": {
   "display_name": "Python 3 (ipykernel)",
   "language": "python",
   "name": "python3"
  },
  "language_info": {
   "codemirror_mode": {
    "name": "ipython",
    "version": 3
   },
   "file_extension": ".py",
   "mimetype": "text/x-python",
   "name": "python",
   "nbconvert_exporter": "python",
   "pygments_lexer": "ipython3",
   "version": "3.12.7"
  }
 },
 "nbformat": 4,
 "nbformat_minor": 5
}
