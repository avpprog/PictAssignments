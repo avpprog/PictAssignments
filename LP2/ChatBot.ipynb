{
  "nbformat": 4,
  "nbformat_minor": 0,
  "metadata": {
    "colab": {
      "provenance": []
    },
    "kernelspec": {
      "name": "python3",
      "display_name": "Python 3"
    },
    "language_info": {
      "name": "python"
    }
  },
  "cells": [
    {
      "cell_type": "code",
      "execution_count": null,
      "metadata": {
        "id": "xVeLGkpxeGIC"
      },
      "outputs": [],
      "source": [
        "import nltk\n",
        "import re\n",
        "from nltk.chat.util import Chat, reflections"
      ]
    },
    {
      "cell_type": "code",
      "source": [
        "nltk.download('punkt')\n",
        "nltk.download('averaged_perceptron_tagger')"
      ],
      "metadata": {
        "colab": {
          "base_uri": "https://localhost:8080/"
        },
        "id": "DrsHoL2OenmZ",
        "outputId": "63dfbbd8-26ec-4222-d025-01cd7793370a"
      },
      "execution_count": null,
      "outputs": [
        {
          "output_type": "stream",
          "name": "stderr",
          "text": [
            "[nltk_data] Downloading package punkt to /root/nltk_data...\n",
            "[nltk_data]   Unzipping tokenizers/punkt.zip.\n",
            "[nltk_data] Downloading package averaged_perceptron_tagger to\n",
            "[nltk_data]     /root/nltk_data...\n",
            "[nltk_data]   Unzipping taggers/averaged_perceptron_tagger.zip.\n"
          ]
        },
        {
          "output_type": "execute_result",
          "data": {
            "text/plain": [
              "True"
            ]
          },
          "metadata": {},
          "execution_count": 2
        }
      ]
    },
    {
      "cell_type": "code",
      "source": [
        "# Define chatbot patterns and responses\n",
        "pairs = [\n",
        "    [r\"What are your business hours?(.*)\",[\"We’re open Monday to Saturday, 10 AM to 5 PM.\\n[Except on Holidays including 1st and 3rd Saturday].\\nLet me know if you need further info!\\n\"]],\n",
        "    [r\"my name is (.*)|I'm (.*)|Myself (.*)|I am (.*)\", [\"Hello %1, how can I assist you today?\\n\"]],\n",
        "    [r\"hi|hey|hello\", [\"Hello, how can I help you?\", \"Hey there! What can I do for you?\", \"Hi! How can I assist you today?\\n\"]],\n",
        "    [r\"what is your name?\", [\"I am a chatbot created to assist you. You can call me Edith.\\n\"]],\n",
        "    [r\"how are you?\", [\"I'm a bot, so I don't have feelings, but I'm here to help you!\\n\"]],\n",
        "    [r\"can you help me with (.*)\", [\"Sure, I can help you with %1. Please enter the keyword for required information.\\n\"]],\n",
        "    [r\"sorry (.*)\", [\"It's okay. How can I assist you?\\n\"]],\n",
        "    [r\"How can I access Library?|Library\", [\"you can visit: https://pict.edu/library/\\n\"]],\n",
        "    [r\"How can I contact|contact \", [\"Address: Survey No. 27, Near Trimurti Chowk, Dhankawadi, Pune-411043, Maharashtra (India).\\nPhone Number: +91 20 24371101\\n\"]],\n",
        "    [r\"thank you|thanks\", [\"You're welcome!\", \"No problem!\", \"Happy to help!\\n\"]],\n",
        "    [r\"What payment methods do you accept?\",[\"We accept major credit cards, debit cards, PayPal, Google Pay, PhonePe, PayTM and other secure payment methods.\\n\"]],\n",
        "    [r\"Where can I find staff room|staff room(.*)\", [\"you can visit the reception desk\\n\"]],\n",
        "    [r\"who is our HOD?|HOD|Head of Department\", [\"Computer Dept.: Dr. Geetanjali V. Kale \\nInformation Tech. Dept.: Dr. Archana S. Ghotkar \\nElectronics Dept.: Dr. Sunil K. Moon \\nAI and DS Dept.: Dr. Shweta C. Dharmadhikari \\nElectronics and Telecom. Dept: Dr. Mousami V. Munot \\n\"]],\n",
        "    [r\"What is vision |vision\",[\"SCTR’s Pune Institute of Computer Technology envisions to be a centre of excellence in higher technical education and research, \\nproducing global leaders in the field of technology.\\n\"]],\n",
        "    [r\"What is mission|mission\",[\"Provide rigorous academic training that equips students to excel in their professional careers with the development of \\nuniversal human values. Foster research and innovation culture amongst faculty and students by \\nencouraging interdisciplinary collaborations, thereby contributing to technological advancements. \\nNurture leadership qualities in students through development of analytical thinking, problem-solving, and \\neffective communication skills.\\n\"]],\n",
        "    [r\"Tell me about PICT|PICT\",[\"you can visit: https://pict.edu/about_us/\\n\"]],\n",
        "    [r\"Fee structure|fees|fee\",[\"you can visit: https://pict.edu/fee-structure/\\n\"]],\n",
        "    [r\"How can I check my attendance|attendance|presenty\",[\"login to ERM portal on https://erp.pict.edu/\\n\"]],\n",
        "    [r\"(.*)PICT official website\",[\"you can visit: https://pict.edu/\\n\"]],\n",
        "    #[r\"Information|Brochure|Details|Admission\",[\"https://pict.edu/pdf/footer/FE%20Information%20Brochure%20AY2022-23_V10_29-09-2022.pdf\"]],\n",
        "    [r\"Cut off for first(.*)\",[\"visit the site: https://pict.dur/cutoff-FE/\\n\"]],\n",
        "    [r\"Branch (.*)\",[\"Following branches are available for UG students:\\n* Computer Engineering\\n* Information Technology\\n* Artificial Intelligence and Data Science\\n* Electronics & Telecommunication\\n* Electronics and Computer\\n\"]],\n",
        "    [r\"Cut off for DSE\",[\"visit the site: https://pict.dur/cutoff-SE-direct/\\n\"]],\n",
        "    [r\"Co-curricular activities(.*)|cocurricular(.*)\",[\"Events:\\n* TechFiesta\\n* Smart India Hackathon\\n* Impetus and Concepts\\n\\nClubs: \\n* ACM - Association for computing machinery\\n* IEEE - Institute of Electrical and Electronics Engineers\\n* Robocon\\n* CSI - Computer Society of India\\n* Game Development\\n* PAC - Automobile\\n* Cybercell\\n\"]],\n",
        "    [r\"Placement (.*)\", [\"you can visit: https://pict.edu/placement/\\n\"]],\n",
        "    [r\"Time table(.*)|timetable|syllabus\", [\"you can vist: https://pict.edu/time_table_syllabus/\\n\"]],\n",
        "    [r\"Scholarship (.*)\",[\"you can reach Student's Counter or may visit: https://pict.edu/Scholarship/\\n\"]],\n",
        "    #[r\"Counselling\",[\"https://pict.edu/pdf/footer/Counselling%20Cell%20SOPs.pdf\"]],\n",
        "    [r\"Staff (.*)|Faculty (.*)|Teacher (.*)\",[\"click here: https://pict.edu/FacultyInformation/\\n\"]],\n",
        "    [r\"(.*)\", [\"I'm sorry, I don't understand that. Can you rephrase? \\nor you may visit: https://pict.edu/\" , \"Could you please elaborate on that? \\nElse you may contact us or visit the website: https://pict.edu/\\n\"]]\n",
        "]"
      ],
      "metadata": {
        "id": "LFIqcaXigtVn"
      },
      "execution_count": null,
      "outputs": []
    },
    {
      "cell_type": "code",
      "source": [
        "class RuleBasedChatbot:\n",
        "    def __init__(self, pairs):\n",
        "        self.chat = Chat(pairs, reflections)  # Initialize the chat with defined pairs and reflections\n",
        "\n",
        "    def respond(self, user_input):\n",
        "        \"\"\"Generate a response from the chatbot based on user input.\"\"\"\n",
        "        return self.chat.respond(user_input)"
      ],
      "metadata": {
        "id": "kyvRkIDskMNc"
      },
      "execution_count": null,
      "outputs": []
    },
    {
      "cell_type": "code",
      "source": [
        "chatbot = RuleBasedChatbot(pairs)"
      ],
      "metadata": {
        "id": "42zE8QWNkZOi"
      },
      "execution_count": null,
      "outputs": []
    },
    {
      "cell_type": "code",
      "source": [
        "def chat_with_bot():\n",
        "    print(\"Type 'quit' to exit.\\nGreetings, I'm your virtual assistant Edith.\\nHow can I address you?.\\n\")\n",
        "    while True:\n",
        "        user_input = input(\"You: \")  # Take input from the user\n",
        "        if user_input.lower() == 'quit':  # Check if the user wants to quit the conversation\n",
        "            print(\"Chatbot: Bye! Have a great day!\")\n",
        "            break\n",
        "        response = chatbot.respond(user_input)  # Get chatbot response\n",
        "        print(f\"Chatbot: {response}\")  # Print the chatbot's response"
      ],
      "metadata": {
        "id": "bo1m4kGGkjyK"
      },
      "execution_count": null,
      "outputs": []
    },
    {
      "cell_type": "code",
      "source": [
        "chat_with_bot()"
      ],
      "metadata": {
        "colab": {
          "base_uri": "https://localhost:8080/"
        },
        "id": "P1Jb8G1HlEFu",
        "outputId": "65f6e9fa-429b-4f67-e2bd-d77271125e5e"
      },
      "execution_count": null,
      "outputs": [
        {
          "output_type": "stream",
          "name": "stdout",
          "text": [
            "Type 'quit' to exit.\n",
            "Greetings, I'm your virtual assistant Edith.\n",
            "How can I address you?.\n",
            "\n",
            "You: Hi I am Aditya\n",
            "Chatbot: Hello, how can I help you?\n",
            "You: what are your business hours\n",
            "Chatbot: We’re open Monday to Saturday, 10 AM to 5 PM.\n",
            "[Except on Holidays including 1st and 3rd Saturday].\n",
            "Let me know if you need further info!\n",
            "\n",
            "You: when will I graduate\n",
            "Chatbot: Could you please elaborate on that? \n",
            "Else you may contact us or visit the website: https://pict.edu/\n",
            "\n",
            "You: when was pict established\n",
            "Chatbot: I'm sorry, I don't understand that. Can you rephrase? \n",
            "or you may visit: https://pict.edu/\n"
          ]
        }
      ]
    },
    {
      "cell_type": "markdown",
      "source": [
        "When interacting with a **college chatbot**, students, prospective applicants, and other users may have a variety of questions related to admission, courses, campus life, fees, and more. Here’s a list of **questions** you can ask a college chatbot, categorized by different topics:\n",
        "\n",
        "### **1. Admissions & Application**\n",
        "- **What are the admission requirements for [degree program] at your college?**\n",
        "- **How do I apply for undergraduate/graduate programs?**\n",
        "- **What documents do I need to submit for my application?**\n",
        "- **When is the application deadline?**\n",
        "- **Is there an application fee?**\n",
        "- **Can I apply for multiple programs?**\n",
        "- **Do you accept late applications?**\n",
        "- **How can I track the status of my application?**\n",
        "- **What is the average GPA or test scores for accepted students?**\n",
        "- **Do I need to submit standardized test scores (like SAT, ACT, GRE)?**\n",
        "- **Are there any scholarships or financial aid options for incoming students?**\n",
        "- **Is there an entrance exam for [specific program] admissions?**\n",
        "  \n",
        "### **2. Campus Life & Facilities**\n",
        "- **What clubs or organizations are available on campus?**\n",
        "- **Are there any sports teams or intramural activities?**\n",
        "- **Can I take a virtual tour of the campus?**\n",
        "- **What types of student housing options are available?**\n",
        "- **Is there a campus gym or fitness center?**\n",
        "- **Do you offer any student support services (counseling, tutoring, etc.)?**\n",
        "- **What is the campus food like? Are there meal plans available?**\n",
        "- **How do I get involved in on-campus events or activities?**\n",
        "- **Are there international student organizations or support services?**\n",
        "- **Is there a student health center on campus?**\n",
        "  \n",
        "### **3. Courses & Academic Programs**\n",
        "- **What programs or degrees do you offer?**\n",
        "- **How do I apply for a specific major or minor?**\n",
        "- **Can I switch my major after being admitted?**\n",
        "- **What are the most popular courses at your college?**\n",
        "- **What are the class sizes for undergraduate courses?**\n",
        "- **Are there any online degree programs?**\n",
        "- **Do you offer evening or weekend courses for working students?**\n",
        "- **What’s the typical workload for a student in [specific program]?**\n",
        "- **Do you offer internships or work-study programs?**\n",
        "- **Can I take courses outside of my major?**\n",
        "  \n",
        "### **4. Financial Aid & Scholarships**\n",
        "- **How do I apply for financial aid?**\n",
        "- **What scholarships are available for incoming students?**\n",
        "- **Can I apply for both merit-based and need-based scholarships?**\n",
        "- **What is the average cost of tuition and fees for an undergraduate student?**\n",
        "- **Are there payment plans for tuition fees?**\n",
        "- **Do you offer any discounts for early payment or specific groups?**\n",
        "- **How do I apply for a student loan?**\n",
        "- **What is the FAFSA code for your college?**\n",
        "- **Is there on-campus employment available for students?**\n",
        "- **Are there any work-study programs available for international students?**\n",
        "  \n",
        "### **5. Housing & Accommodation**\n",
        "- **How do I apply for on-campus housing?**\n",
        "- **What types of dorms are available on campus?**\n",
        "- **Are there family housing options for married students or students with children?**\n",
        "- **How much does on-campus housing cost?**\n",
        "- **Can I choose my roommate or do I get assigned one?**\n",
        "- **Do you offer off-campus housing options?**\n",
        "- **What is the process for moving in and out of the dorms?**\n",
        "  \n",
        "### **6. Campus Safety & Security**\n",
        "- **What security measures are in place on campus?**\n",
        "- **How do I report an emergency or unsafe situation on campus?**\n",
        "- **Are there campus safety escorts available at night?**\n",
        "- **What are the campus parking policies?**\n",
        "- **Is there a lost and found on campus?**\n",
        "  \n",
        "### **7. Graduation & Career Services**\n",
        "- **What resources do you offer for career counseling?**\n",
        "- **Does your college have job placement assistance for graduates?**\n",
        "- **Are there internship programs or job fairs on campus?**\n",
        "- **How can I apply for graduate school after completing my degree here?**\n",
        "- **Can I get help with writing my resume or preparing for interviews?**\n",
        "- **What is the average salary for graduates of [program/degree]?**\n",
        "  \n",
        "### **8. Student Life & Activities**\n",
        "- **What are the most popular student activities on campus?**\n",
        "- **Are there any volunteer opportunities for students?**\n",
        "- **What kind of cultural or social events does the college host?**\n",
        "- **Can I participate in a study abroad program?**\n",
        "- **What types of student leadership opportunities are available?**\n",
        "- **How do I sign up for campus events or activities?**\n",
        "- **Are there support services for first-generation college students?**\n",
        "  \n",
        "### **9. Technology & IT Services**\n",
        "- **How do I access the student portal or learning management system?**\n",
        "- **What technology resources are available to students?**\n",
        "- **Do you offer free Wi-Fi on campus?**\n",
        "- **How can I access digital textbooks or online resources for my classes?**\n",
        "- **Is there a campus IT help desk for technical support?**\n",
        "\n",
        "### **10. International Students**\n",
        "- **What are the specific admission requirements for international students?**\n",
        "- **Do you offer visa assistance for international students?**\n",
        "- **What are the requirements for international students regarding English proficiency?**\n",
        "- **Is there an orientation program for international students?**\n",
        "- **Can international students apply for scholarships or financial aid?**\n",
        "- **Are there cultural programs for international students?**\n",
        "\n",
        "---\n",
        "\n",
        "These are just some of the **common questions** you can ask a college chatbot. The chatbot should be designed to answer these inquiries with clarity and offer assistance in the next steps, making the user experience smoother and more efficient."
      ],
      "metadata": {
        "id": "USGx2rhLvXqJ"
      }
    }
  ]
}