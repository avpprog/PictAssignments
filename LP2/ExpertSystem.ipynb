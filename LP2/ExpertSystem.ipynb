{
  "cells": [
    {
      "cell_type": "markdown",
      "metadata": {
        "id": "kQST9gQX2Gzy"
      },
      "source": []
    },
    {
      "cell_type": "code",
      "execution_count": null,
      "metadata": {
        "colab": {
          "base_uri": "https://localhost:8080/"
        },
        "id": "uY4HCh3x2Po7",
        "outputId": "523e96e4-2baa-4fb8-daa4-e01afd603838"
      },
      "outputs": [
        {
          "output_type": "stream",
          "name": "stdout",
          "text": [
            "Hello\n"
          ]
        }
      ],
      "source": [
        "print(\"Hello\")"
      ]
    },
    {
      "cell_type": "code",
      "source": [
        "!pip install experta==1.9.4"
      ],
      "metadata": {
        "colab": {
          "base_uri": "https://localhost:8080/"
        },
        "id": "BZOVe-mcfhna",
        "outputId": "8ff12984-24b5-479c-a2ba-db8de8523037"
      },
      "execution_count": null,
      "outputs": [
        {
          "output_type": "stream",
          "name": "stdout",
          "text": [
            "Requirement already satisfied: experta==1.9.4 in /usr/local/lib/python3.11/dist-packages (1.9.4)\n",
            "Requirement already satisfied: frozendict==1.2 in /usr/local/lib/python3.11/dist-packages (from experta==1.9.4) (1.2)\n",
            "Requirement already satisfied: schema==0.6.7 in /usr/local/lib/python3.11/dist-packages (from experta==1.9.4) (0.6.7)\n"
          ]
        }
      ]
    },
    {
      "cell_type": "code",
      "source": [
        "!pip install --upgrade frozendict"
      ],
      "metadata": {
        "colab": {
          "base_uri": "https://localhost:8080/"
        },
        "id": "5LvIdxeSjnnd",
        "outputId": "cf041a48-b619-4193-8f05-1b88d5ecf98f"
      },
      "execution_count": null,
      "outputs": [
        {
          "output_type": "stream",
          "name": "stdout",
          "text": [
            "Requirement already satisfied: frozendict in /usr/local/lib/python3.11/dist-packages (1.2)\n",
            "Collecting frozendict\n",
            "  Downloading frozendict-2.4.6-py311-none-any.whl.metadata (23 kB)\n",
            "Downloading frozendict-2.4.6-py311-none-any.whl (16 kB)\n",
            "Installing collected packages: frozendict\n",
            "  Attempting uninstall: frozendict\n",
            "    Found existing installation: frozendict 1.2\n",
            "    Uninstalling frozendict-1.2:\n",
            "      Successfully uninstalled frozendict-1.2\n",
            "\u001b[31mERROR: pip's dependency resolver does not currently take into account all the packages that are installed. This behaviour is the source of the following dependency conflicts.\n",
            "experta 1.9.4 requires frozendict==1.2, but you have frozendict 2.4.6 which is incompatible.\u001b[0m\u001b[31m\n",
            "\u001b[0mSuccessfully installed frozendict-2.4.6\n"
          ]
        }
      ]
    },
    {
      "cell_type": "code",
      "source": [
        "class Patient(Fact):\n",
        "    pass\n",
        "\n",
        "class Disease(Fact):\n",
        "    pass\n",
        "\n",
        "class Treatment(Fact):\n",
        "    pass\n",
        "\n",
        "\n",
        "class DiagnosisEngine(KnowledgeEngine):\n",
        "    @Rule(AND(Patient(symptom='fever'), Patient(symptom='cough')))\n",
        "    def diagnose_flu(self):\n",
        "        print(\"Diagnosing flu...\")\n",
        "        self.declare(Disease(name='flu'))\n",
        "    @Rule(Disease(name='flu'))\n",
        "    def suggest_treatment(self):\n",
        "        print(\"Recommending treatment for flu:\\n Please visit primary care physician (PCP) or a general practitioner (GP)\\nSelf care: Stay home, get plenty of sleep, drink fluids\")\n",
        "\n",
        "    @Rule(AND(Patient(symptom='fever'), Patient(symptom='headache')))\n",
        "    def diagnose_migraine(self):\n",
        "        print(\"Diagnosing migraine...\")\n",
        "        self.declare(Disease(name='migraine'))\n",
        "    @Rule(Disease(name='migraine'))\n",
        "    def suggest_treatment_migraine(self):\n",
        "        print(\"Recommending treatment for migraine:\\n Please visit primary care physician (PCP) or a general practitioner (GP)\\nSelf care: prioritize consistent sleep, a balanced diet,\\n\\t regular exercise, stress reduction, and hydration\")\n",
        "\n",
        "    @Rule(AND(Patient(symptom='runny nose'), Patient(symptom='cough')))\n",
        "    def diagnose_flu(self):\n",
        "        print(\"Diagnosing cold...\")\n",
        "        self.declare(Disease(name='cold'))\n",
        "    @Rule(Disease(name='cold'))\n",
        "    def suggest_treatment(self):\n",
        "        print(\"Recommending treatment for cold:\\n Please visit primary care physician (PCP) or a general practitioner (GP)\\nSelf care: prioritize rest, stay hydrated by drinking plenty of fluids,\\n\\t and consider using home remedies like warm salt water gargles or steam inhalation to soothe symptoms\")\n",
        "\n",
        "\n",
        "    @Rule(AND(Patient(symptom='sneezing'), Patient(symptom='rashes')))\n",
        "    def diagnose_flu(self):\n",
        "        print(\"Diagnosing allergy...\")\n",
        "        self.declare(Disease(name='allergy'))\n",
        "    @Rule(Disease(name='allergy'))\n",
        "    def suggest_treatment(self):\n",
        "        print(\"Recommending treatment for allergy:\\n Please visit primary care physician (PCP) or a general practitioner (GP)\\nSelf care: focus on minimizing exposure to allergens, maintaining a clean environment,\\n\\t and employing natural remedies to soothe symptoms, such as using a neti pot, steam, or cold compresses\")\n"
      ],
      "metadata": {
        "id": "Ab81Bsi-gHBJ"
      },
      "execution_count": null,
      "outputs": []
    },
    {
      "cell_type": "code",
      "source": [
        "\n",
        "engine = DiagnosisEngine()\n",
        "\n",
        "#symptoms_input = input(\"Please enter your symptoms (separate symptoms by commas, e.g. fever, cough, headache): \").strip().lower()\n",
        "\n",
        "#symptoms_list = [symptom.strip() for symptom in symptoms_input.split(',')]\n",
        "\n",
        "#for symptom in symptoms_list:\n",
        "#    engine.declare(Patient(symptom=symptom))\n",
        "\n",
        "#engine.run()\n",
        "\n",
        "\n",
        "def chat_with_system():\n",
        "    print(\"Type 'quit' to exit.\\n\")\n",
        "    while True:\n",
        "        symptoms_input = input(\"Please enter your symptoms (separate symptoms by commas, e.g. fever, cough, headache): \").strip().lower()\n",
        "        if symptoms_input.lower() == 'quit':\n",
        "            print(\"Stay Healthy!\")\n",
        "            break\n",
        "        symptoms_list = [symptom.strip() for symptom in symptoms_input.split(',')]\n",
        "\n",
        "        for symptom in symptoms_list:\n",
        "            engine.declare(Patient(symptom=symptom))\n",
        "        engine.run()\n",
        "\n",
        "\n",
        "chat_with_system()"
      ],
      "metadata": {
        "colab": {
          "base_uri": "https://localhost:8080/"
        },
        "id": "mtSo6sc0na-o",
        "outputId": "4f4e8975-4a26-4cda-8a8f-66921b1f29ea"
      },
      "execution_count": null,
      "outputs": [
        {
          "name": "stdout",
          "output_type": "stream",
          "text": [
            "Type 'quit' to exit.\n",
            "\n",
            "Please enter your symptoms (separate symptoms by commas, e.g. fever, cough, headache): sneezing, rashes\n"
          ]
        },
        {
          "output_type": "stream",
          "name": "stderr",
          "text": [
            "WARNING:experta.watchers.ENGINE:Declaring fact before reset()\n"
          ]
        },
        {
          "output_type": "stream",
          "name": "stdout",
          "text": [
            "Diagnosing allergy...\n",
            "Recommending treatment for allergy:\n",
            " Please visit primary care physician (PCP) or a general practitioner (GP)\n",
            "Self care: focus on minimizing exposure to allergens, maintaining a clean environment,\n",
            "\t and employing natural remedies to soothe symptoms, such as using a neti pot, steam, or cold compresses\n",
            "Please enter your symptoms (separate symptoms by commas, e.g. fever, cough, headache): runny nose, cough\n",
            "Please enter your symptoms (separate symptoms by commas, e.g. fever, cough, headache): quit\n",
            "Stay Healthy!\n"
          ]
        }
      ]
    }
  ],
  "metadata": {
    "colab": {
      "provenance": []
    },
    "kernelspec": {
      "display_name": "Python 3",
      "name": "python3"
    },
    "language_info": {
      "name": "python"
    }
  },
  "nbformat": 4,
  "nbformat_minor": 0
}